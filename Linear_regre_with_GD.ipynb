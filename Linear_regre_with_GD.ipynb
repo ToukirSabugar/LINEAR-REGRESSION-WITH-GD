{
  "cells": [
    {
      "cell_type": "markdown",
      "metadata": {
        "id": "view-in-github",
        "colab_type": "text"
      },
      "source": [
        "<a href=\"https://colab.research.google.com/github/ToukirSabugar/LINEAR-REGRESSION-WITH-GD/blob/main/Linear_regre_with_GD.ipynb\" target=\"_parent\"><img src=\"https://colab.research.google.com/assets/colab-badge.svg\" alt=\"Open In Colab\"/></a>"
      ]
    },
    {
      "cell_type": "markdown",
      "metadata": {
        "id": "qBgGewF9fwKG"
      },
      "source": [
        "# Linear regression part-2"
      ]
    },
    {
      "cell_type": "markdown",
      "metadata": {
        "id": "0QXolFX6fwKJ"
      },
      "source": [
        "In our earlier class, we have discussed about the cost function and its importance in linear regression. The objective in any regression method is to minimize the cost function. In our previous class, we did it manually. However, we need an optimization algorithm to do it automatically. The gradient descent algorithm is one of the best optimization method for linear regression problem. Here we will try to understand about this algorithm."
      ]
    },
    {
      "cell_type": "code",
      "execution_count": null,
      "metadata": {
        "collapsed": true,
        "id": "dcSCGlb_fwKK"
      },
      "outputs": [],
      "source": [
        "import numpy as np\n",
        "from IPython.display import display, Math, Latex\n",
        "import matplotlib.pyplot as plt\n",
        "from matplotlib.legend_handler import HandlerLine2D\n",
        "import pylab as plb\n",
        "from IPython.display import Image, display"
      ]
    },
    {
      "cell_type": "markdown",
      "metadata": {
        "id": "gQazQcKofwKL"
      },
      "source": [
        "As we discussed, we choose the sum of square error as a cost function for this problem. Here our objective is to find the minimum value of **C** by adjusting the parameter **a** and **b**. For simplicity let us consider **a = P1** and **b = P2**\n"
      ]
    },
    {
      "cell_type": "code",
      "execution_count": null,
      "metadata": {
        "colab": {
          "base_uri": "https://localhost:8080/",
          "height": 67
        },
        "id": "qW5ff7hlfwKM",
        "outputId": "8826ff16-ac15-47ea-c361-6890fcb860f7"
      },
      "outputs": [
        {
          "output_type": "display_data",
          "data": {
            "text/plain": [
              "<IPython.core.display.Math object>"
            ],
            "text/latex": "$\\displaystyle C(P_1, P_2) =\\frac 1{2m} \\sum_{i=1}^m (H_i - Y_i)^2$"
          },
          "metadata": {}
        }
      ],
      "source": [
        "display(Math(r'C(P_1, P_2) =\\frac 1{2m} \\sum_{i=1}^m (H_i - Y_i)^2')) # cost function "
      ]
    },
    {
      "cell_type": "markdown",
      "metadata": {
        "id": "EVOuWGlQfwKN"
      },
      "source": [
        "## Gradient descent:"
      ]
    },
    {
      "cell_type": "markdown",
      "metadata": {
        "id": "Bn-Jfdiff4Ll"
      },
      "source": [
        "# New Section"
      ]
    },
    {
      "cell_type": "markdown",
      "metadata": {
        "id": "LLZK-RsLfwKN"
      },
      "source": [
        "The equation of gradient descent is as given below"
      ]
    },
    {
      "cell_type": "code",
      "execution_count": null,
      "metadata": {
        "colab": {
          "base_uri": "https://localhost:8080/",
          "height": 54
        },
        "id": "sYsPpykwfwKO",
        "outputId": "a77e88e5-3d45-438f-ba2d-5d8c4596ede9"
      },
      "outputs": [
        {
          "output_type": "display_data",
          "data": {
            "text/plain": [
              "<IPython.core.display.Math object>"
            ],
            "text/latex": "$\\displaystyle P_k = P_k -\\alpha\\frac{\\partial }{\\partial P_k}C(P_1,P_2) \\ ( for \\ k =1 \\ and \\ k =2)$"
          },
          "metadata": {}
        }
      ],
      "source": [
        "display(Math(r'P_k = P_k -\\alpha\\frac{\\partial }{\\partial P_k}C(P_1,P_2) \\ ( for \\ k =1 \\ and \\ k =2)'))"
      ]
    },
    {
      "cell_type": "code",
      "execution_count": null,
      "metadata": {
        "colab": {
          "base_uri": "https://localhost:8080/",
          "height": 54
        },
        "id": "anNKixlRfwKQ",
        "outputId": "95285486-3b96-4f22-ef63-3e0b65d03994"
      },
      "outputs": [
        {
          "output_type": "display_data",
          "data": {
            "text/plain": [
              "<IPython.core.display.Math object>"
            ],
            "text/latex": "$\\displaystyle P_k = P_k -\\alpha\\frac{\\partial }{\\partial P_k}C(P_1,P_2) \\ ( for \\ k =1 \\ and \\ k =2)$"
          },
          "metadata": {}
        }
      ],
      "source": [
        "display(Math(r'P_k = P_k -\\alpha\\frac{\\partial }{\\partial P_k}C(P_1,P_2) \\ ( for \\ k =1 \\ and \\ k =2)'))"
      ]
    },
    {
      "cell_type": "markdown",
      "metadata": {
        "id": "otLFJIJ7fwKR"
      },
      "source": [
        "Where "
      ]
    },
    {
      "cell_type": "code",
      "execution_count": null,
      "metadata": {
        "colab": {
          "base_uri": "https://localhost:8080/",
          "height": 67
        },
        "id": "4mkErUszfwKR",
        "outputId": "530213d2-3a20-4895-a869-e095dce102ea",
        "scrolled": true
      },
      "outputs": [
        {
          "output_type": "display_data",
          "data": {
            "text/plain": [
              "<IPython.core.display.Math object>"
            ],
            "text/latex": "$\\displaystyle \\frac{\\partial }{\\partial P_k}C(P_1,P_2) =\\frac{\\partial }{\\partial P_k}\\frac{1}{2m}\\sum_{i =1}^{m}(P_2 + P_1X^i-Y^i)^2$"
          },
          "metadata": {}
        }
      ],
      "source": [
        "display(Math(r'\\frac{\\partial }{\\partial P_k}C(P_1,P_2) =\\frac{\\partial }{\\partial P_k}\\frac{1}{2m}\\sum_{i =1}^{m}(P_2 + P_1X^i-Y^i)^2'))"
      ]
    },
    {
      "cell_type": "code",
      "execution_count": null,
      "metadata": {
        "colab": {
          "base_uri": "https://localhost:8080/",
          "height": 67
        },
        "id": "gMxUxbpEfwKR",
        "outputId": "4d824230-f2e5-44be-a598-d654934740aa"
      },
      "outputs": [
        {
          "output_type": "display_data",
          "data": {
            "text/plain": [
              "<IPython.core.display.Math object>"
            ],
            "text/latex": "$\\displaystyle for\\ P_1:\\ \\frac{\\partial }{\\partial P_1}\\frac{1}{2m}\\sum_{i =1}^{m}(P_2 + P_1X^i-Y^i)^2 = \\frac{1}{m}\\sum_{i =1}^{m}(P_2 + P_1X^i-Y^i)X^i$"
          },
          "metadata": {}
        }
      ],
      "source": [
        "display(Math(r'for\\ P_1:\\ \\frac{\\partial }{\\partial P_1}\\frac{1}{2m}\\sum_{i =1}^{m}(P_2 + P_1X^i-Y^i)^2 = \\frac{1}{m}\\sum_{i =1}^{m}(P_2 + P_1X^i-Y^i)X^i'))"
      ]
    },
    {
      "cell_type": "code",
      "execution_count": null,
      "metadata": {
        "colab": {
          "base_uri": "https://localhost:8080/",
          "height": 67
        },
        "id": "LSbYYQHdfwKS",
        "outputId": "b1326211-e87c-497f-d189-c0bb779ffbf6"
      },
      "outputs": [
        {
          "output_type": "display_data",
          "data": {
            "text/plain": [
              "<IPython.core.display.Math object>"
            ],
            "text/latex": "$\\displaystyle for\\ P_2:\\ \\frac{\\partial }{\\partial P_2}\\frac{1}{2m}\\sum_{i =1}^{m}(P_2 + P_1X^i-Y^i)^2 = \\frac{1}{m}\\sum_{i =1}^{m}(P_2 + P_1X^i-Y^i)$"
          },
          "metadata": {}
        }
      ],
      "source": [
        "display(Math(r'for\\ P_2:\\ \\frac{\\partial }{\\partial P_2}\\frac{1}{2m}\\sum_{i =1}^{m}(P_2 + P_1X^i-Y^i)^2 = \\frac{1}{m}\\sum_{i =1}^{m}(P_2 + P_1X^i-Y^i)'))"
      ]
    },
    {
      "cell_type": "markdown",
      "metadata": {
        "collapsed": true,
        "id": "W9w20TFOfwKS"
      },
      "source": [
        "In linear regression, the gradient descent will always find a global minimum, since there are no local minima for linear regression. Here we will try to manually implement the gradient descent algorithm."
      ]
    },
    {
      "cell_type": "code",
      "execution_count": null,
      "metadata": {
        "collapsed": true,
        "id": "s8MVQOKMfwKS"
      },
      "outputs": [],
      "source": [
        "def cost_f(X,Y,P): # X and Y are for the data and P is the parameters for the hypothesis.\n",
        "    \n",
        "    H = P[0]*X + P[1]\n",
        "    \n",
        "    C = (np.sum(np.square(H - Y)))/2*len(X)\n",
        "    return C\n"
      ]
    },
    {
      "cell_type": "code",
      "execution_count": null,
      "metadata": {
        "collapsed": true,
        "id": "qIOxGyWLfwKT"
      },
      "outputs": [],
      "source": [
        "def g_d(alpha, X, Y, P, num_itr): # alpha=learning rate, num_itr = number of iteration, P = parameters of hypothesis\n",
        "    cf = np.zeros((num_itr))\n",
        "    pplt = np.zeros((2, num_itr))\n",
        "    for i in range(num_itr):\n",
        "        p1_new = P[0] - alpha*( np.sum( (P[0]*X + P[1] - Y)*X )  ) / len(X)\n",
        "        p2_new = P[1] - alpha*( np.sum( (P[0]*X + P[1] - Y) )  ) / len(X)\n",
        "        \n",
        "        # Update of new parameters\n",
        "        P[0] = p1_new\n",
        "        P[1] = p2_new\n",
        "        \n",
        "        cf[i] = cost_f(X,Y,P)\n",
        "        pplt[0,i] = P[0]\n",
        "        \n",
        "        pplt[1,i] = P[1]\n",
        "    return P, pplt, cf\n",
        "        "
      ]
    },
    {
      "cell_type": "code",
      "execution_count": null,
      "metadata": {
        "collapsed": true,
        "id": "nUh6P_y8fwKU"
      },
      "outputs": [],
      "source": [
        "P = [0.0, 0.0]\n",
        "P = np.array(P)"
      ]
    },
    {
      "cell_type": "code",
      "execution_count": null,
      "metadata": {
        "collapsed": true,
        "id": "tlbaKSXafwKU"
      },
      "outputs": [],
      "source": [
        "X = [1, 2, 3, 4, 5]\n",
        "X = np.array(X)\n",
        "#X = X/max(X)\n",
        "Y = [10, 40, 50, 78, 83]\n",
        "Y = np.array(Y)\n",
        "#Y = Y/max(Y)"
      ]
    },
    {
      "cell_type": "code",
      "execution_count": null,
      "metadata": {
        "collapsed": true,
        "id": "t8Y18p0MfwKU"
      },
      "outputs": [],
      "source": [
        "itr = 100\n",
        "alpha = 0.01"
      ]
    },
    {
      "cell_type": "code",
      "execution_count": null,
      "metadata": {
        "colab": {
          "base_uri": "https://localhost:8080/",
          "height": 52
        },
        "id": "emJ2vFGofwKV",
        "outputId": "9c9205cf-40ff-4bce-edbc-d5cd74a61242"
      },
      "outputs": [
        {
          "output_type": "execute_result",
          "data": {
            "text/plain": [
              "'\\nPP stored the optimized parameters, \\n\\nPPlt stored all the values of parametres of each iteration\\n\\nCF stored the cost fuction of each iteration\\n\\n'"
            ],
            "application/vnd.google.colaboratory.intrinsic+json": {
              "type": "string"
            }
          },
          "metadata": {},
          "execution_count": 13
        }
      ],
      "source": [
        "PP, PPlt, CF = g_d(alpha, X, Y, P, itr) \n",
        "\n",
        "'''\n",
        "PP stored the optimized parameters, \n",
        "\n",
        "PPlt stored all the values of parametres of each iteration\n",
        "\n",
        "CF stored the cost fuction of each iteration\n",
        "\n",
        "'''"
      ]
    },
    {
      "cell_type": "code",
      "source": [
        "plt.plot(PPlt[0,:],CF)"
      ],
      "metadata": {
        "colab": {
          "base_uri": "https://localhost:8080/",
          "height": 285
        },
        "id": "jL-qt99rM0uU",
        "outputId": "70448780-4234-4d0b-dc2f-4b6846e1fd0b"
      },
      "execution_count": null,
      "outputs": [
        {
          "output_type": "execute_result",
          "data": {
            "text/plain": [
              "[<matplotlib.lines.Line2D at 0x7f8cd08d5b50>]"
            ]
          },
          "metadata": {},
          "execution_count": 14
        },
        {
          "output_type": "display_data",
          "data": {
            "text/plain": [
              "<Figure size 432x288 with 1 Axes>"
            ],
            "image/png": "[encoded data removed]"
          },
          "metadata": {
            "needs_background": "light"
          }
        }
      ]
    },
    {
      "cell_type": "markdown",
      "metadata": {
        "id": "2uX0B7WUfwKV"
      },
      "source": [
        "This is the surface plot of the P1, P2 and cost function. From this graph, it is clear that the optimum value of P1 =18 and P2 = -2."
      ]
    },
    {
      "cell_type": "code",
      "execution_count": null,
      "metadata": {
        "collapsed": true,
        "id": "3wQFgGwBfwKW"
      },
      "outputs": [],
      "source": [
        "# Make data.\n",
        "P1f = PP[0]\n",
        "P2f = PP[1]"
      ]
    },
    {
      "cell_type": "code",
      "execution_count": null,
      "metadata": {
        "colab": {
          "base_uri": "https://localhost:8080/"
        },
        "id": "pUcYKoM4dmHn",
        "outputId": "045ab383-c27e-49bc-d375-ade87afb0004"
      },
      "outputs": [
        {
          "output_type": "execute_result",
          "data": {
            "text/plain": [
              "16.64133019493385"
            ]
          },
          "metadata": {},
          "execution_count": 16
        }
      ],
      "source": [
        "P1f"
      ]
    },
    {
      "cell_type": "code",
      "execution_count": null,
      "metadata": {
        "collapsed": true,
        "id": "s3MdSad0fwKW"
      },
      "outputs": [],
      "source": [
        "Hf = P1f*X + P2f "
      ]
    },
    {
      "cell_type": "code",
      "execution_count": null,
      "metadata": {
        "colab": {
          "base_uri": "https://localhost:8080/",
          "height": 295
        },
        "id": "rhV25xEwfwKW",
        "outputId": "9a2d380f-d3ec-4b3f-be55-d8633d3a5b0d"
      },
      "outputs": [
        {
          "output_type": "display_data",
          "data": {
            "text/plain": [
              "<Figure size 432x288 with 1 Axes>"
            ],
            "image/png": "[encoded data removed]"
          },
          "metadata": {
            "needs_background": "light"
          }
        }
      ],
      "source": [
        "line1, = plt.plot(X,Y, \"ro\", markersize=5, label='Original Data')\n",
        "line2, = plt.plot(X,Hf, label='Optimised Model')\n",
        "plt.title('X vs Y')\n",
        "plt.xlabel('X')\n",
        "plt.ylabel('Y')\n",
        "plt.legend(handler_map={line1: HandlerLine2D(numpoints=4)})\n",
        "plt.show()"
      ]
    },
    {
      "cell_type": "markdown",
      "metadata": {
        "collapsed": true,
        "id": "a9KQpd5MfwKX"
      },
      "source": [
        "The above graph is the automatically optimised linear regression model. Next, we will implement the same in TensorFlow"
      ]
    }
  ],
  "metadata": {
    "colab": {
      "provenance": [],
      "include_colab_link": true
    },
    "kernelspec": {
      "display_name": "Python 3",
      "language": "python",
      "name": "python3"
    },
    "language_info": {
      "codemirror_mode": {
        "name": "ipython",
        "version": 3
      },
      "file_extension": ".py",
      "mimetype": "text/x-python",
      "name": "python",
      "nbconvert_exporter": "python",
      "pygments_lexer": "ipython3",
      "version": "3.6.1"
    }
  },
  "nbformat": 4,
  "nbformat_minor": 0
}